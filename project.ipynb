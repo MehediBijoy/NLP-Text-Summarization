{
 "metadata": {
  "language_info": {
   "codemirror_mode": {
    "name": "ipython",
    "version": 3
   },
   "file_extension": ".py",
   "mimetype": "text/x-python",
   "name": "python",
   "nbconvert_exporter": "python",
   "pygments_lexer": "ipython3",
   "version": "3.8.5-final"
  },
  "orig_nbformat": 2,
  "kernelspec": {
   "name": "python3",
   "display_name": "Python 3.8.5 64-bit",
   "metadata": {
    "interpreter": {
     "hash": "49705368adc30fa3dc24020fc3680334d9bc143a0a461031e4cdc7f974c9c0b5"
    }
   }
  }
 },
 "nbformat": 4,
 "nbformat_minor": 2,
 "cells": [
  {
   "cell_type": "code",
   "execution_count": 52,
   "metadata": {},
   "outputs": [],
   "source": [
    "import spacy\n",
    "from spacy.lang.en.stop_words import STOP_WORDS\n",
    "from string import punctuation\n",
    "from heapq import nlargest\n",
    "import urllib.request as request\n",
    "import bs4 as BeautifulSoup"
   ]
  },
  {
   "cell_type": "code",
   "execution_count": 53,
   "metadata": {},
   "outputs": [],
   "source": [
    "fetched_data = request.urlopen('https://en.wikipedia.org')\n",
    "\n",
    "article_read = fetched_data.read()"
   ]
  },
  {
   "cell_type": "code",
   "execution_count": 54,
   "metadata": {},
   "outputs": [],
   "source": [
    "article_parsed = BeautifulSoup.BeautifulSoup(article_read,'html.parser')\n",
    "paragraphs = article_parsed.find_all('p')"
   ]
  },
  {
   "cell_type": "code",
   "execution_count": 55,
   "metadata": {},
   "outputs": [],
   "source": [
    "article_content = ''\n",
    "for p in paragraphs:\n",
    "    article_content += p.text"
   ]
  },
  {
   "cell_type": "code",
   "execution_count": 56,
   "metadata": {},
   "outputs": [],
   "source": [
    "stopwords = list(STOP_WORDS)\n",
    "nlp = spacy.load('en_core_web_sm')\n",
    "doc = nlp(article_content)\n",
    "tokens = [token.text for token in doc]\n",
    "punctuation = punctuation + '\\n'\n",
    "punctuation\n",
    "word_frequencies = {}\n",
    "for word in doc:\n",
    "    if word.text.lower() not in stopwords:\n",
    "        if word.text.lower() not in punctuation:\n",
    "            if word.text not in word_frequencies.keys():\n",
    "                word_frequencies[word.text] = 1\n",
    "            else:\n",
    "                word_frequencies[word.text] += 1"
   ]
  },
  {
   "cell_type": "code",
   "execution_count": 58,
   "metadata": {},
   "outputs": [
    {
     "output_type": "execute_result",
     "data": {
      "text/plain": [
       "10"
      ]
     },
     "metadata": {},
     "execution_count": 58
    }
   ],
   "source": [
    "max_frequency = max(word_frequencies.values())\n",
    "max_frequency"
   ]
  },
  {
   "cell_type": "code",
   "execution_count": 59,
   "metadata": {},
   "outputs": [
    {
     "output_type": "stream",
     "name": "stdout",
     "text": [
      "{'Planet': 1.0, 'Apes': 1.0, 'American': 0.1, 'science': 0.1, 'fiction': 0.1, 'media': 0.2, 'franchise': 0.1, 'consisting': 0.1, 'films': 0.2, 'books': 0.1, 'television': 0.2, 'series': 0.3, 'comics': 0.1, 'world': 0.1, 'humans': 0.1, 'intelligent': 0.1, 'apes': 0.1, 'clash': 0.1, 'control': 0.1, 'Based': 0.1, 'French': 0.1, 'author': 0.1, 'Pierre': 0.1, 'Boulle': 0.1, '1963': 0.1, 'novel': 0.1, 'La': 0.1, 'Planète': 0.1, 'des': 0.1, 'singes': 0.1, '1968': 0.1, 'film': 0.4, 'adaptation': 0.1, 'critical': 0.2, 'commercial': 0.1, 'hit': 0.1, '1970': 0.1, '1973': 0.1, 'sequels': 0.1, 'followed': 0.2, 'original': 0.2, 'Beneath': 0.1, 'Escape': 0.1, 'Conquest': 0.1, 'Battle': 0.1, 'approach': 0.1, 'acclaim': 0.1, 'commercially': 0.1, 'successful': 0.1, 'spawning': 0.1, '1974': 0.1, '1975': 0.1, 'Tim': 0.1, 'Burton': 0.1, 'released': 0.1, '2001': 0.1, 'reboot': 0.1, 'began': 0.2, '2011': 0.1, 'Rise': 0.1, 'Dawn': 0.1, '2014': 0.1, 'War': 0.1, '2017': 0.1, 'grossed': 0.1, '2': 0.1, '\\xa0': 0.2, 'billion': 0.1, 'worldwide': 0.1, 'article': 0.1, '...': 0.1, 'February': 0.1, '17': 0.1, 'Ash': 0.1, 'Wednesday': 0.1, 'Western': 0.1, 'Christianity': 0.1, '2021': 0.1, 'Helleborus': 0.1, 'orientalis': 0.1, 'Lenten': 0.1, 'rose': 0.1, 'species': 0.2, 'hellebore': 0.1, 'buttercup': 0.1, 'family': 0.1, 'native': 0.1, 'Greece': 0.1, 'Turkey': 0.1, 'German': 0.1, 'planters': 0.1, 'breeding': 0.1, 'mid-19th': 0.1, 'century': 0.1, 'fell': 0.1, 'favour': 0.1, 'garden': 0.1, 'plant': 0.1, '1920s': 0.1, 'Interest': 0.1, 'revived': 0.1, '1960s': 0.1, 'Helen': 0.1, 'Ballard': 0.1, 'bred': 0.1, 'new': 0.1, 'varieties': 0.1, 'Cultivars': 0.1, 'plain': 0.1, 'spotted': 0.1, 'flowers': 0.1, 'white': 0.1, 'green': 0.1, 'pink': 0.1, 'maroon': 0.1, 'purple': 0.1, 'Photograph': 0.1, 'credit': 0.1, 'Dominicus': 0.1, 'Johannes': 0.1, 'BergsmaWikipedia': 0.1, 'hosted': 0.1, 'Wikimedia': 0.1, 'Foundation': 0.1, 'non': 0.1, 'profit': 0.1, 'organization': 0.1, 'hosts': 0.1, 'range': 0.1, 'projects': 0.1, 'Wikipedia': 0.1, 'written': 0.1, 'English': 0.1, 'Wikipedias': 0.1, 'available': 0.1, 'largest': 0.1, 'listed': 0.1}\n"
     ]
    }
   ],
   "source": [
    "for word in word_frequencies.keys():\n",
    "    word_frequencies[word] = word_frequencies[word]/max_frequency\n",
    "\n",
    "print(word_frequencies)"
   ]
  },
  {
   "cell_type": "code",
   "execution_count": 60,
   "metadata": {},
   "outputs": [
    {
     "output_type": "stream",
     "name": "stdout",
     "text": [
      "[Planet of the Apes is an American science-fiction media franchise consisting of films, books, television series, comics, and other media about a world in which humans and intelligent apes clash for control., Based on French author Pierre Boulle's 1963 novel La Planète des singes, its 1968 film adaptation, Planet of the Apes, was a critical and commercial hit., From 1970 to 1973 four sequels followed the original film: Beneath the Planet of the Apes, Escape from the Planet of the Apes, Conquest of the Planet of the Apes and Battle for the Planet of the Apes., They did not approach the critical acclaim of the original, but were commercially successful, spawning two television series in 1974 and 1975., Tim Burton's Planet of the Apes film was released in 2001., A reboot film series began in 2011 with Rise of the Planet of the Apes, which was followed by Dawn of the Planet of the Apes in 2014 and War for the Planet of the Apes in 2017., The films have grossed over $2 billion worldwide., (Full article...), \n, February 17: Ash Wednesday (Western Christianity, 2021)\n, Helleborus orientalis, the Lenten rose, is a species of hellebore in the buttercup family, native to Greece and Turkey., German planters began breeding the species in the mid-19th century, but it fell out of favour as a garden plant in the 1920s., Interest was revived in the 1960s by Helen Ballard, who bred many new varieties., Cultivars have plain or spotted flowers, which can be white, green, pink, maroon or purple., \n, Photograph credit: Dominicus Johannes BergsmaWikipedia is hosted by the Wikimedia Foundation, a non-profit organization that also hosts a range of other projects:\n, This Wikipedia is written in English., Many other Wikipedias are available; some of the largest are listed below.\n]\n"
     ]
    }
   ],
   "source": [
    "sentence_tokens = [sent for sent in doc.sents]\n",
    "print(sentence_tokens)"
   ]
  },
  {
   "cell_type": "code",
   "execution_count": 63,
   "metadata": {},
   "outputs": [
    {
     "output_type": "execute_result",
     "data": {
      "text/plain": [
       "{Planet of the Apes is an American science-fiction media franchise consisting of films, books, television series, comics, and other media about a world in which humans and intelligent apes clash for control.: 2.4000000000000004,\n",
       " Based on French author Pierre Boulle's 1963 novel La Planète des singes, its 1968 film adaptation, Planet of the Apes, was a critical and commercial hit.: 1.6000000000000003,\n",
       " From 1970 to 1973 four sequels followed the original film: Beneath the Planet of the Apes, Escape from the Planet of the Apes, Conquest of the Planet of the Apes and Battle for the Planet of the Apes.: 1.5000000000000004,\n",
       " They did not approach the critical acclaim of the original, but were commercially successful, spawning two television series in 1974 and 1975.: 1.6000000000000003,\n",
       " Tim Burton's Planet of the Apes film was released in 2001.: 0.7,\n",
       " A reboot film series began in 2011 with Rise of the Planet of the Apes, which was followed by Dawn of the Planet of the Apes in 2014 and War for the Planet of the Apes in 2017.: 1.8000000000000005,\n",
       " The films have grossed over $2 billion worldwide.: 0.8,\n",
       " (Full article...): 0.4,\n",
       " February 17: Ash Wednesday (Western Christianity, 2021): 0.2,\n",
       " Helleborus orientalis, the Lenten rose, is a species of hellebore in the buttercup family, native to Greece and Turkey.: 0.7999999999999999,\n",
       " German planters began breeding the species in the mid-19th century, but it fell out of favour as a garden plant in the 1920s.: 1.3000000000000003,\n",
       " Interest was revived in the 1960s by Helen Ballard, who bred many new varieties.: 0.5,\n",
       " Cultivars have plain or spotted flowers, which can be white, green, pink, maroon or purple.: 0.7999999999999999,\n",
       " Photograph credit: Dominicus Johannes BergsmaWikipedia is hosted by the Wikimedia Foundation, a non-profit organization that also hosts a range of other projects:: 0.7999999999999999,\n",
       " This Wikipedia is written in English.: 0.1,\n",
       " Many other Wikipedias are available; some of the largest are listed below.: 0.30000000000000004}"
      ]
     },
     "metadata": {},
     "execution_count": 63
    }
   ],
   "source": [
    "sentence_scores = {}\n",
    "for sent in sentence_tokens:\n",
    "    for word in sent:\n",
    "        if word.text.lower() in word_frequencies.keys():\n",
    "            if sent not in sentence_scores.keys():\n",
    "                sentence_scores[sent] = word_frequencies[word.text.lower()]\n",
    "            else:\n",
    "                sentence_scores[sent] += word_frequencies[word.text.lower()]\n",
    "sentence_scores"
   ]
  },
  {
   "cell_type": "code",
   "execution_count": 64,
   "metadata": {},
   "outputs": [
    {
     "output_type": "execute_result",
     "data": {
      "text/plain": [
       "5"
      ]
     },
     "metadata": {},
     "execution_count": 64
    }
   ],
   "source": [
    "select_length = int(len(sentence_tokens)*0.3)\n",
    "select_length"
   ]
  },
  {
   "cell_type": "code",
   "execution_count": 70,
   "metadata": {},
   "outputs": [
    {
     "output_type": "execute_result",
     "data": {
      "text/plain": [
       "[Planet of the Apes is an American science-fiction media franchise consisting of films, books, television series, comics, and other media about a world in which humans and intelligent apes clash for control.,\n",
       " A reboot film series began in 2011 with Rise of the Planet of the Apes, which was followed by Dawn of the Planet of the Apes in 2014 and War for the Planet of the Apes in 2017.,\n",
       " Based on French author Pierre Boulle's 1963 novel La Planète des singes, its 1968 film adaptation, Planet of the Apes, was a critical and commercial hit.,\n",
       " They did not approach the critical acclaim of the original, but were commercially successful, spawning two television series in 1974 and 1975.,\n",
       " From 1970 to 1973 four sequels followed the original film: Beneath the Planet of the Apes, Escape from the Planet of the Apes, Conquest of the Planet of the Apes and Battle for the Planet of the Apes.]"
      ]
     },
     "metadata": {},
     "execution_count": 70
    }
   ],
   "source": [
    "summary = nlargest(select_length, sentence_scores, key = sentence_scores.get)\n",
    "summary"
   ]
  },
  {
   "cell_type": "code",
   "execution_count": 71,
   "metadata": {},
   "outputs": [
    {
     "output_type": "stream",
     "name": "stdout",
     "text": [
      "Planet of the Apes is an American science-fiction media franchise consisting of films, books, television series, comics, and other media about a world in which humans and intelligent apes clash for control. A reboot film series began in 2011 with Rise of the Planet of the Apes, which was followed by Dawn of the Planet of the Apes in 2014 and War for the Planet of the Apes in 2017. Based on French author Pierre Boulle's 1963 novel La Planète des singes, its 1968 film adaptation, Planet of the Apes, was a critical and commercial hit. They did not approach the critical acclaim of the original, but were commercially successful, spawning two television series in 1974 and 1975. From 1970 to 1973 four sequels followed the original film: Beneath the Planet of the Apes, Escape from the Planet of the Apes, Conquest of the Planet of the Apes and Battle for the Planet of the Apes.\n"
     ]
    }
   ],
   "source": [
    "final_summary = [word.text for word in summary]\n",
    "summary = ' '.join(final_summary)\n",
    "print(summary)"
   ]
  },
  {
   "cell_type": "code",
   "execution_count": null,
   "metadata": {},
   "outputs": [],
   "source": []
  }
 ]
}